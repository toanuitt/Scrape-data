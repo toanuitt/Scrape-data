{
 "cells": [
  {
   "cell_type": "code",
   "execution_count": 1,
   "id": "fbc72f05",
   "metadata": {},
   "outputs": [],
   "source": [
    "from bs4 import BeautifulSoup"
   ]
  },
  {
   "cell_type": "code",
   "execution_count": 2,
   "id": "94cd3096",
   "metadata": {},
   "outputs": [
    {
     "name": "stdout",
     "output_type": "stream",
     "text": [
      "<!doctype html>\n",
      "<html lang=\"en\">\n",
      "   <head>\n",
      "      <meta charset=\"utf-8\">\n",
      "      <meta name=\"viewport\" content=\"width=device-width, initial-scale=1, shrink-to-fit=no\">\n",
      "      <link rel=\"stylesheet\" href=\"https://stackpath.bootstrapcdn.com/bootstrap/4.5.2/css/bootstrap.min.css\" integrity=\"sha384-JcKb8q3iqJ61gNV9KGb8thSsNjpSL0n8PARn9HuZOnIxN0hoP+VmmDGMN5t9UJ0Z\" crossorigin=\"anonymous\">\n",
      "      <title>My Courses</title>\n",
      "   </head>\n",
      "   <body>\n",
      "      <h1>Hello, Start Learning!</h1>\n",
      "      <div class=\"card\" id=\"card-python-for-beginners\">\n",
      "         <div class=\"card-header\">\n",
      "            Python\n",
      "         </div>\n",
      "         <div class=\"card-body\">\n",
      "            <h5 class=\"card-title\">Python for beginners</h5>\n",
      "            <p class=\"card-text\">If you are new to Python, this is the course that you should buy!</p>\n",
      "            <a href=\"#\" class=\"btn btn-primary\">Start for 20$</a>\n",
      "         </div>\n",
      "      </div>\n",
      "      <div class=\"card\" id=\"card-python-web-development\">\n",
      "         <div class=\"card-header\">\n",
      "            Python\n",
      "         </div>\n",
      "         <div class=\"card-body\">\n",
      "            <h5 class=\"card-title\">Python Web Development</h5>\n",
      "            <p class=\"card-text\">If you feel enough confident with python, you are ready to learn how to create your own website!</p>\n",
      "            <a href=\"#\" class=\"btn btn-primary\">Start for 50$</a>\n",
      "         </div>\n",
      "      </div>\n",
      "      <div class=\"card\" id=\"card-python-machine-learning\">\n",
      "         <div class=\"card-header\">\n",
      "            Python\n",
      "         </div>\n",
      "         <div class=\"card-body\">\n",
      "            <h5 class=\"card-title\">Python Machine Learning</h5>\n",
      "            <p class=\"card-text\">Become a Python Machine Learning master!</p>\n",
      "            <a href=\"#\" class=\"btn btn-primary\">Start for 100$</a>\n",
      "         </div>\n",
      "      </div>\n",
      "   </body>\n",
      "</html>\n"
     ]
    }
   ],
   "source": [
    "with open('home.html','r') as html_file:\n",
    "    content = html_file.read()\n",
    "    print(content)"
   ]
  },
  {
   "cell_type": "code",
   "execution_count": 3,
   "id": "96c36711",
   "metadata": {},
   "outputs": [
    {
     "name": "stdout",
     "output_type": "stream",
     "text": [
      "<bound method Tag.prettify of <!DOCTYPE html>\n",
      "<html lang=\"en\">\n",
      "<head>\n",
      "<meta charset=\"utf-8\"/>\n",
      "<meta content=\"width=device-width, initial-scale=1, shrink-to-fit=no\" name=\"viewport\"/>\n",
      "<link crossorigin=\"anonymous\" href=\"https://stackpath.bootstrapcdn.com/bootstrap/4.5.2/css/bootstrap.min.css\" integrity=\"sha384-JcKb8q3iqJ61gNV9KGb8thSsNjpSL0n8PARn9HuZOnIxN0hoP+VmmDGMN5t9UJ0Z\" rel=\"stylesheet\"/>\n",
      "<title>My Courses</title>\n",
      "</head>\n",
      "<body>\n",
      "<h1>Hello, Start Learning!</h1>\n",
      "<div class=\"card\" id=\"card-python-for-beginners\">\n",
      "<div class=\"card-header\">\n",
      "            Python\n",
      "         </div>\n",
      "<div class=\"card-body\">\n",
      "<h5 class=\"card-title\">Python for beginners</h5>\n",
      "<p class=\"card-text\">If you are new to Python, this is the course that you should buy!</p>\n",
      "<a class=\"btn btn-primary\" href=\"#\">Start for 20$</a>\n",
      "</div>\n",
      "</div>\n",
      "<div class=\"card\" id=\"card-python-web-development\">\n",
      "<div class=\"card-header\">\n",
      "            Python\n",
      "         </div>\n",
      "<div class=\"card-body\">\n",
      "<h5 class=\"card-title\">Python Web Development</h5>\n",
      "<p class=\"card-text\">If you feel enough confident with python, you are ready to learn how to create your own website!</p>\n",
      "<a class=\"btn btn-primary\" href=\"#\">Start for 50$</a>\n",
      "</div>\n",
      "</div>\n",
      "<div class=\"card\" id=\"card-python-machine-learning\">\n",
      "<div class=\"card-header\">\n",
      "            Python\n",
      "         </div>\n",
      "<div class=\"card-body\">\n",
      "<h5 class=\"card-title\">Python Machine Learning</h5>\n",
      "<p class=\"card-text\">Become a Python Machine Learning master!</p>\n",
      "<a class=\"btn btn-primary\" href=\"#\">Start for 100$</a>\n",
      "</div>\n",
      "</div>\n",
      "</body>\n",
      "</html>>\n"
     ]
    }
   ],
   "source": [
    "soup = BeautifulSoup(content,'lxml')\n",
    "print(soup.prettify)"
   ]
  },
  {
   "cell_type": "code",
   "execution_count": 5,
   "id": "0aa44a88",
   "metadata": {},
   "outputs": [
    {
     "data": {
      "text/plain": [
       "[<h5 class=\"card-title\">Python for beginners</h5>,\n",
       " <h5 class=\"card-title\">Python Web Development</h5>,\n",
       " <h5 class=\"card-title\">Python Machine Learning</h5>]"
      ]
     },
     "execution_count": 5,
     "metadata": {},
     "output_type": "execute_result"
    }
   ],
   "source": [
    "tags = soup.find_all('h5')\n",
    "tags"
   ]
  },
  {
   "cell_type": "code",
   "execution_count": 6,
   "id": "4fd4bc0e",
   "metadata": {},
   "outputs": [
    {
     "name": "stdout",
     "output_type": "stream",
     "text": [
      "Python for beginners\n",
      "Python Web Development\n",
      "Python Machine Learning\n"
     ]
    }
   ],
   "source": [
    "course_html_tags = soup.find_all('h5')\n",
    "for course in course_html_tags:\n",
    "    print(course.text)"
   ]
  },
  {
   "cell_type": "code",
   "execution_count": 8,
   "id": "14b58f21",
   "metadata": {},
   "outputs": [
    {
     "name": "stdout",
     "output_type": "stream",
     "text": [
      "<h5 class=\"card-title\">Python for beginners</h5>\n",
      "<h5 class=\"card-title\">Python Web Development</h5>\n",
      "<h5 class=\"card-title\">Python Machine Learning</h5>\n"
     ]
    }
   ],
   "source": [
    "course_card = soup.find_all('div',class_='card')\n",
    "for course in course_card:\n",
    "    print(course.h5)"
   ]
  },
  {
   "cell_type": "code",
   "execution_count": 9,
   "id": "3337bd6a",
   "metadata": {},
   "outputs": [
    {
     "name": "stdout",
     "output_type": "stream",
     "text": [
      "<div class=\"card\" id=\"card-python-for-beginners\">\n",
      "<div class=\"card-header\">\n",
      "            Python\n",
      "         </div>\n",
      "<div class=\"card-body\">\n",
      "<h5 class=\"card-title\">Python for beginners</h5>\n",
      "<p class=\"card-text\">If you are new to Python, this is the course that you should buy!</p>\n",
      "<a class=\"btn btn-primary\" href=\"#\">Start for 20$</a>\n",
      "</div>\n",
      "</div>\n",
      "<div class=\"card\" id=\"card-python-web-development\">\n",
      "<div class=\"card-header\">\n",
      "            Python\n",
      "         </div>\n",
      "<div class=\"card-body\">\n",
      "<h5 class=\"card-title\">Python Web Development</h5>\n",
      "<p class=\"card-text\">If you feel enough confident with python, you are ready to learn how to create your own website!</p>\n",
      "<a class=\"btn btn-primary\" href=\"#\">Start for 50$</a>\n",
      "</div>\n",
      "</div>\n",
      "<div class=\"card\" id=\"card-python-machine-learning\">\n",
      "<div class=\"card-header\">\n",
      "            Python\n",
      "         </div>\n",
      "<div class=\"card-body\">\n",
      "<h5 class=\"card-title\">Python Machine Learning</h5>\n",
      "<p class=\"card-text\">Become a Python Machine Learning master!</p>\n",
      "<a class=\"btn btn-primary\" href=\"#\">Start for 100$</a>\n",
      "</div>\n",
      "</div>\n"
     ]
    }
   ],
   "source": [
    "for course in course_card:\n",
    "    print(course)"
   ]
  },
  {
   "cell_type": "code",
   "execution_count": 12,
   "id": "cceda9db",
   "metadata": {},
   "outputs": [
    {
     "name": "stdout",
     "output_type": "stream",
     "text": [
      "Python for beginners\n",
      "20$\n",
      "Python Web Development\n",
      "50$\n",
      "Python Machine Learning\n",
      "100$\n"
     ]
    }
   ],
   "source": [
    "for course in course_card:\n",
    "    course_name = course.h5.text\n",
    "    course_price = course.a.text.split()[-1]\n",
    "    print(course_name)\n",
    "    print(course_price)"
   ]
  },
  {
   "cell_type": "code",
   "execution_count": null,
   "id": "b3532534",
   "metadata": {},
   "outputs": [],
   "source": []
  }
 ],
 "metadata": {
  "kernelspec": {
   "display_name": "Python 3 (ipykernel)",
   "language": "python",
   "name": "python3"
  },
  "language_info": {
   "codemirror_mode": {
    "name": "ipython",
    "version": 3
   },
   "file_extension": ".py",
   "mimetype": "text/x-python",
   "name": "python",
   "nbconvert_exporter": "python",
   "pygments_lexer": "ipython3",
   "version": "3.11.4"
  }
 },
 "nbformat": 4,
 "nbformat_minor": 5
}
